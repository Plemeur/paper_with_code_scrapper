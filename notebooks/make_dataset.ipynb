{
 "cells": [
  {
   "cell_type": "code",
   "execution_count": null,
   "id": "capable-bibliography",
   "metadata": {},
   "outputs": [],
   "source": [
    "import json\n",
    "import matplotlib.pyplot as plt\n",
    "import pandas as pd\n",
    "import random"
   ]
  },
  {
   "cell_type": "code",
   "execution_count": null,
   "id": "instrumental-ecology",
   "metadata": {},
   "outputs": [],
   "source": [
    "with open('../dataset_full.json', 'r') as f:\n",
    "    dataset = json.load(f)"
   ]
  },
  {
   "cell_type": "code",
   "execution_count": null,
   "id": "abstract-queen",
   "metadata": {},
   "outputs": [],
   "source": [
    "def get_distribution(dataset):\n",
    "    distribution = {}\n",
    "    abstract_lengths = []\n",
    "    for k, v in dataset.items():\n",
    "        for task in v['tasks']:\n",
    "            distribution[task] = distribution.get(task, 0) + 1\n",
    "        abstract_lengths.append(len(v['abstract']))\n",
    "    df = pd.DataFrame.from_dict(distribution, orient='index')\n",
    "    df = df.sort_values(0, ascending=False)\n",
    "    df.columns=['count']\n",
    "    return df"
   ]
  },
  {
   "cell_type": "code",
   "execution_count": null,
   "id": "interested-interaction",
   "metadata": {},
   "outputs": [],
   "source": [
    "df = pd.DataFrame.from_dict(distribution, orient='index')\n",
    "df = df.sort_values(0, ascending=False)\n",
    "df.columns=['count']\n",
    "kept_classes = list(df.query('count > 100').index)"
   ]
  },
  {
   "cell_type": "code",
   "execution_count": null,
   "id": "quarterly-gardening",
   "metadata": {},
   "outputs": [],
   "source": [
    "dataset_train = {}\n",
    "dataset_val = {}\n",
    "dataset_test = {}\n",
    "\n",
    "train_distrib = {}\n",
    "val_distrib = {}\n",
    "test_distrib = {}\n",
    "\n",
    "# I want at least 10 items in test, 20, in validation, and the rest in training\n",
    "# because I have a minimum of 100 sample for the lowest class, ie 70/20/10 split\n",
    "items = list(dataset.items())\n",
    "random.shuffle(items)\n",
    "for k, v in items:\n",
    "    keep_datapoint = False\n",
    "    kept_tasks = []\n",
    "    for task in v['tasks']:\n",
    "        if task in kept_classes:\n",
    "            keep_datapoint = True\n",
    "            kept_tasks.append(task)\n",
    "            \n",
    "    \n",
    "    if keep_datapoint:\n",
    "        test_count = 10\n",
    "        val_count = 20\n",
    "        for task in kept_tasks:\n",
    "            val_count = min(val_count, val_distrib.get(task, 0))\n",
    "            test_count = min(test_count, test_distrib.get(task, 0))\n",
    "\n",
    "\n",
    "        if test_count < 10 :\n",
    "            for task in kept_tasks:\n",
    "                test_distrib[task] = test_distrib.get(task,0) + 1\n",
    "            dataset_test[k] = v\n",
    "            continue\n",
    "        elif val_count < 20:\n",
    "            for task in kept_tasks:\n",
    "                val_distrib[task] = val_distrib.get(task,0) + 1\n",
    "            dataset_val[k] = v\n",
    "            continue\n",
    "        else:\n",
    "            for task in kept_tasks:\n",
    "                train_distrib[task] = train_distrib.get(task,0) + 1\n",
    "            dataset_train[k] = v\n",
    "\n",
    "    "
   ]
  },
  {
   "cell_type": "code",
   "execution_count": null,
   "id": "liberal-measurement",
   "metadata": {},
   "outputs": [],
   "source": [
    "print(f' Train set : {len(dataset_train)} , Validation set : {len(dataset_val)}, Test set : {len(dataset_test)}')"
   ]
  },
  {
   "cell_type": "code",
   "execution_count": null,
   "id": "expired-document",
   "metadata": {
    "tags": []
   },
   "outputs": [],
   "source": [
    "get_distribution(dataset_train).query('index in @kept_classes').plot.bar(figsize=(30,5))\n",
    "plt.savefig('../img/Train_set_distribution')"
   ]
  },
  {
   "cell_type": "code",
   "execution_count": null,
   "id": "protective-canberra",
   "metadata": {
    "tags": []
   },
   "outputs": [],
   "source": [
    "get_distribution(dataset_val).query('index in @kept_classes').plot.bar(figsize=(30,5))\n",
    "plt.savefig('../img/Validation_set_distribution')"
   ]
  },
  {
   "cell_type": "code",
   "execution_count": null,
   "id": "postal-resolution",
   "metadata": {},
   "outputs": [],
   "source": [
    "get_distribution(dataset_test).query('index in @kept_classes').plot.bar(figsize=(30,5))\n",
    "plt.savefig('../img/Test_set_distribution')"
   ]
  },
  {
   "cell_type": "code",
   "execution_count": null,
   "id": "marine-valve",
   "metadata": {},
   "outputs": [],
   "source": [
    "with open('../train_split.json', 'w') as f:\n",
    "    json.dump(dataset_train, f)"
   ]
  },
  {
   "cell_type": "code",
   "execution_count": null,
   "id": "touched-twist",
   "metadata": {},
   "outputs": [],
   "source": [
    "with open('../test_split.json', 'w') as f:\n",
    "    json.dump(dataset_test, f)"
   ]
  },
  {
   "cell_type": "code",
   "execution_count": null,
   "id": "republican-colleague",
   "metadata": {},
   "outputs": [],
   "source": [
    "with open('../val_split.json', 'w') as f:\n",
    "    json.dump(dataset_val, f)"
   ]
  },
  {
   "cell_type": "code",
   "execution_count": null,
   "id": "confused-expansion",
   "metadata": {},
   "outputs": [],
   "source": []
  }
 ],
 "metadata": {
  "kernelspec": {
   "display_name": "Python 3",
   "language": "python",
   "name": "python3"
  },
  "language_info": {
   "codemirror_mode": {
    "name": "ipython",
    "version": 3
   },
   "file_extension": ".py",
   "mimetype": "text/x-python",
   "name": "python",
   "nbconvert_exporter": "python",
   "pygments_lexer": "ipython3",
   "version": "3.8.8"
  }
 },
 "nbformat": 4,
 "nbformat_minor": 5
}
